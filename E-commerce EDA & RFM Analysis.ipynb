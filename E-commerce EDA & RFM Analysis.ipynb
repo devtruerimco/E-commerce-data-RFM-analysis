{
 "cells": [
  {
   "cell_type": "markdown",
   "id": "646279d7",
   "metadata": {},
   "source": [
    "## E commerce data/ RFM analysis"
   ]
  },
  {
   "cell_type": "markdown",
   "id": "d8e18bfe",
   "metadata": {},
   "source": [
    "### 0. Introduction and data dictionary\n",
    "* This is a transnational data set which contains all the transactions occurring between 01/12/2010 and 09/12/2011 \n",
    "  for a UK-based and registered non-store online retail.The company mainly sells unique all-occasion gifts. \n",
    "  Many customers of the company are wholesalers."
   ]
  },
  {
   "cell_type": "markdown",
   "id": "e68ec27a",
   "metadata": {},
   "source": [
    "##### Data Dictionary\n",
    "* Invoice no: invoice number, a 6 digit integral unique number assigned to each transaction, if it starts with a \"c\", indicates a cancellation\n",
    "* StockCode: Product code, a 5 digit integet uniquely assigned to each distinct product\n",
    "* Description: Product name, Nominal\n",
    "* Quantity: The quantities of each prodyuct per transaction (Numeric)\n",
    "* InvoiceDate: Invoice Date and time, (Numeric)\n",
    "* UnitPrice: Prodict price per unit in Sterling(Pounds)\n",
    "* CustomerID: Customer number, 5 digit nominal unique udentifier assigned to each customer\n",
    "* Country: Country name, (Nominal), the name of the country where each customer resides"
   ]
  },
  {
   "cell_type": "code",
   "execution_count": 2,
   "id": "b70e8f8b",
   "metadata": {},
   "outputs": [],
   "source": [
    "import numpy as np\n",
    "import pandas as pd\n",
    "import matplotlib.pyplot as plt\n",
    "import seaborn as sns\n",
    "%matplotlib inline\n",
    "\n",
    "plt.rcParams.update(\n",
    "    {\"font.size\": 11, \"figure.facecolor\": \"w\", \"axes.facecolor\": \"w\", \"axes.spines.right\": False,\"axes.spines.top\": False, \"axes.spines.bottom\": False,\n",
    "        \"xtick.top\": False,\n",
    "        \"xtick.bottom\": False,\n",
    "        \"ytick.right\": False,\n",
    "        \"ytick.left\": False,\n",
    "    }\n",
    ")\n",
    "\n",
    "plt.rcParams['figure.figsize'] = (12, 4)\n",
    "\n",
    "\n",
    "import warnings\n",
    "warnings.filterwarnings('ignore')"
   ]
  },
  {
   "cell_type": "markdown",
   "id": "d28e9103",
   "metadata": {},
   "source": [
    "### 1.Importing libraries"
   ]
  },
  {
   "cell_type": "code",
   "execution_count": 18,
   "id": "e27a282c",
   "metadata": {
    "scrolled": true
   },
   "outputs": [
    {
     "data": {
      "text/html": [
       "<div>\n",
       "<style scoped>\n",
       "    .dataframe tbody tr th:only-of-type {\n",
       "        vertical-align: middle;\n",
       "    }\n",
       "\n",
       "    .dataframe tbody tr th {\n",
       "        vertical-align: top;\n",
       "    }\n",
       "\n",
       "    .dataframe thead th {\n",
       "        text-align: right;\n",
       "    }\n",
       "</style>\n",
       "<table border=\"1\" class=\"dataframe\">\n",
       "  <thead>\n",
       "    <tr style=\"text-align: right;\">\n",
       "      <th></th>\n",
       "      <th>InvoiceNo</th>\n",
       "      <th>StockCode</th>\n",
       "      <th>Description</th>\n",
       "      <th>Quantity</th>\n",
       "      <th>InvoiceDate</th>\n",
       "      <th>UnitPrice</th>\n",
       "      <th>CustomerID</th>\n",
       "      <th>Country</th>\n",
       "    </tr>\n",
       "  </thead>\n",
       "  <tbody>\n",
       "    <tr>\n",
       "      <th>0</th>\n",
       "      <td>536365</td>\n",
       "      <td>85123A</td>\n",
       "      <td>WHITE HANGING HEART T-LIGHT HOLDER</td>\n",
       "      <td>6</td>\n",
       "      <td>12/1/2010 8:26</td>\n",
       "      <td>2.55</td>\n",
       "      <td>17850.0</td>\n",
       "      <td>United Kingdom</td>\n",
       "    </tr>\n",
       "    <tr>\n",
       "      <th>1</th>\n",
       "      <td>536365</td>\n",
       "      <td>71053</td>\n",
       "      <td>WHITE METAL LANTERN</td>\n",
       "      <td>6</td>\n",
       "      <td>12/1/2010 8:26</td>\n",
       "      <td>3.39</td>\n",
       "      <td>17850.0</td>\n",
       "      <td>United Kingdom</td>\n",
       "    </tr>\n",
       "    <tr>\n",
       "      <th>2</th>\n",
       "      <td>536365</td>\n",
       "      <td>84406B</td>\n",
       "      <td>CREAM CUPID HEARTS COAT HANGER</td>\n",
       "      <td>8</td>\n",
       "      <td>12/1/2010 8:26</td>\n",
       "      <td>2.75</td>\n",
       "      <td>17850.0</td>\n",
       "      <td>United Kingdom</td>\n",
       "    </tr>\n",
       "    <tr>\n",
       "      <th>3</th>\n",
       "      <td>536365</td>\n",
       "      <td>84029G</td>\n",
       "      <td>KNITTED UNION FLAG HOT WATER BOTTLE</td>\n",
       "      <td>6</td>\n",
       "      <td>12/1/2010 8:26</td>\n",
       "      <td>3.39</td>\n",
       "      <td>17850.0</td>\n",
       "      <td>United Kingdom</td>\n",
       "    </tr>\n",
       "    <tr>\n",
       "      <th>4</th>\n",
       "      <td>536365</td>\n",
       "      <td>84029E</td>\n",
       "      <td>RED WOOLLY HOTTIE WHITE HEART.</td>\n",
       "      <td>6</td>\n",
       "      <td>12/1/2010 8:26</td>\n",
       "      <td>3.39</td>\n",
       "      <td>17850.0</td>\n",
       "      <td>United Kingdom</td>\n",
       "    </tr>\n",
       "  </tbody>\n",
       "</table>\n",
       "</div>"
      ],
      "text/plain": [
       "  InvoiceNo StockCode                          Description  Quantity  \\\n",
       "0    536365    85123A   WHITE HANGING HEART T-LIGHT HOLDER         6   \n",
       "1    536365     71053                  WHITE METAL LANTERN         6   \n",
       "2    536365    84406B       CREAM CUPID HEARTS COAT HANGER         8   \n",
       "3    536365    84029G  KNITTED UNION FLAG HOT WATER BOTTLE         6   \n",
       "4    536365    84029E       RED WOOLLY HOTTIE WHITE HEART.         6   \n",
       "\n",
       "      InvoiceDate  UnitPrice  CustomerID         Country  \n",
       "0  12/1/2010 8:26       2.55     17850.0  United Kingdom  \n",
       "1  12/1/2010 8:26       3.39     17850.0  United Kingdom  \n",
       "2  12/1/2010 8:26       2.75     17850.0  United Kingdom  \n",
       "3  12/1/2010 8:26       3.39     17850.0  United Kingdom  \n",
       "4  12/1/2010 8:26       3.39     17850.0  United Kingdom  "
      ]
     },
     "execution_count": 18,
     "metadata": {},
     "output_type": "execute_result"
    }
   ],
   "source": [
    "df= pd.read_csv(\"data-2.csv\", encoding=\"latin1\")\n",
    "df.head()"
   ]
  },
  {
   "cell_type": "code",
   "execution_count": 19,
   "id": "8017a2d1",
   "metadata": {},
   "outputs": [
    {
     "data": {
      "text/plain": [
       "(541909, 8)"
      ]
     },
     "execution_count": 19,
     "metadata": {},
     "output_type": "execute_result"
    }
   ],
   "source": [
    "df.shape"
   ]
  },
  {
   "cell_type": "code",
   "execution_count": 20,
   "id": "18fcb9cd",
   "metadata": {},
   "outputs": [
    {
     "name": "stdout",
     "output_type": "stream",
     "text": [
      "<class 'pandas.core.frame.DataFrame'>\n",
      "RangeIndex: 541909 entries, 0 to 541908\n",
      "Data columns (total 8 columns):\n",
      " #   Column       Non-Null Count   Dtype  \n",
      "---  ------       --------------   -----  \n",
      " 0   InvoiceNo    541909 non-null  object \n",
      " 1   StockCode    541909 non-null  object \n",
      " 2   Description  540455 non-null  object \n",
      " 3   Quantity     541909 non-null  int64  \n",
      " 4   InvoiceDate  541909 non-null  object \n",
      " 5   UnitPrice    541909 non-null  float64\n",
      " 6   CustomerID   406829 non-null  float64\n",
      " 7   Country      541909 non-null  object \n",
      "dtypes: float64(2), int64(1), object(5)\n",
      "memory usage: 33.1+ MB\n"
     ]
    }
   ],
   "source": [
    "df.info()"
   ]
  },
  {
   "cell_type": "code",
   "execution_count": 21,
   "id": "051e671d",
   "metadata": {},
   "outputs": [
    {
     "data": {
      "text/html": [
       "<div>\n",
       "<style scoped>\n",
       "    .dataframe tbody tr th:only-of-type {\n",
       "        vertical-align: middle;\n",
       "    }\n",
       "\n",
       "    .dataframe tbody tr th {\n",
       "        vertical-align: top;\n",
       "    }\n",
       "\n",
       "    .dataframe thead th {\n",
       "        text-align: right;\n",
       "    }\n",
       "</style>\n",
       "<table border=\"1\" class=\"dataframe\">\n",
       "  <thead>\n",
       "    <tr style=\"text-align: right;\">\n",
       "      <th></th>\n",
       "      <th>Quantity</th>\n",
       "      <th>UnitPrice</th>\n",
       "      <th>CustomerID</th>\n",
       "    </tr>\n",
       "  </thead>\n",
       "  <tbody>\n",
       "    <tr>\n",
       "      <th>count</th>\n",
       "      <td>541909.000000</td>\n",
       "      <td>541909.000000</td>\n",
       "      <td>406829.000000</td>\n",
       "    </tr>\n",
       "    <tr>\n",
       "      <th>mean</th>\n",
       "      <td>9.552250</td>\n",
       "      <td>4.611114</td>\n",
       "      <td>15287.690570</td>\n",
       "    </tr>\n",
       "    <tr>\n",
       "      <th>std</th>\n",
       "      <td>218.081158</td>\n",
       "      <td>96.759853</td>\n",
       "      <td>1713.600303</td>\n",
       "    </tr>\n",
       "    <tr>\n",
       "      <th>min</th>\n",
       "      <td>-80995.000000</td>\n",
       "      <td>-11062.060000</td>\n",
       "      <td>12346.000000</td>\n",
       "    </tr>\n",
       "    <tr>\n",
       "      <th>25%</th>\n",
       "      <td>1.000000</td>\n",
       "      <td>1.250000</td>\n",
       "      <td>13953.000000</td>\n",
       "    </tr>\n",
       "    <tr>\n",
       "      <th>50%</th>\n",
       "      <td>3.000000</td>\n",
       "      <td>2.080000</td>\n",
       "      <td>15152.000000</td>\n",
       "    </tr>\n",
       "    <tr>\n",
       "      <th>75%</th>\n",
       "      <td>10.000000</td>\n",
       "      <td>4.130000</td>\n",
       "      <td>16791.000000</td>\n",
       "    </tr>\n",
       "    <tr>\n",
       "      <th>max</th>\n",
       "      <td>80995.000000</td>\n",
       "      <td>38970.000000</td>\n",
       "      <td>18287.000000</td>\n",
       "    </tr>\n",
       "  </tbody>\n",
       "</table>\n",
       "</div>"
      ],
      "text/plain": [
       "            Quantity      UnitPrice     CustomerID\n",
       "count  541909.000000  541909.000000  406829.000000\n",
       "mean        9.552250       4.611114   15287.690570\n",
       "std       218.081158      96.759853    1713.600303\n",
       "min    -80995.000000  -11062.060000   12346.000000\n",
       "25%         1.000000       1.250000   13953.000000\n",
       "50%         3.000000       2.080000   15152.000000\n",
       "75%        10.000000       4.130000   16791.000000\n",
       "max     80995.000000   38970.000000   18287.000000"
      ]
     },
     "execution_count": 21,
     "metadata": {},
     "output_type": "execute_result"
    }
   ],
   "source": [
    "#Looking at numerical columns descriptive statistics\n",
    "df.describe()"
   ]
  },
  {
   "cell_type": "markdown",
   "id": "b07e541a",
   "metadata": {},
   "source": [
    "### 2.1 Check for duplicates"
   ]
  },
  {
   "cell_type": "code",
   "execution_count": 22,
   "id": "3e89e7f4",
   "metadata": {},
   "outputs": [
    {
     "data": {
      "text/plain": [
       "5268"
      ]
     },
     "execution_count": 22,
     "metadata": {},
     "output_type": "execute_result"
    }
   ],
   "source": [
    "\n",
    "df.duplicated().sum()"
   ]
  },
  {
   "cell_type": "code",
   "execution_count": 23,
   "id": "d094d084",
   "metadata": {},
   "outputs": [],
   "source": [
    "### There are 5268 rows duplicated"
   ]
  },
  {
   "cell_type": "code",
   "execution_count": 24,
   "id": "f69dd693",
   "metadata": {},
   "outputs": [
    {
     "data": {
      "text/plain": [
       "0"
      ]
     },
     "execution_count": 24,
     "metadata": {},
     "output_type": "execute_result"
    }
   ],
   "source": [
    "#Drop duplicates\n",
    "df= df.drop_duplicates()\n",
    "\n",
    "df.duplicated().sum()"
   ]
  },
  {
   "cell_type": "markdown",
   "id": "fa2c7242",
   "metadata": {},
   "source": [
    "### 2.2 Missing values"
   ]
  },
  {
   "cell_type": "code",
   "execution_count": 25,
   "id": "1f14e7a4",
   "metadata": {},
   "outputs": [
    {
     "data": {
      "text/plain": [
       "InvoiceNo           0\n",
       "StockCode           0\n",
       "Description      1454\n",
       "Quantity            0\n",
       "InvoiceDate         0\n",
       "UnitPrice           0\n",
       "CustomerID     135037\n",
       "Country             0\n",
       "dtype: int64"
      ]
     },
     "execution_count": 25,
     "metadata": {},
     "output_type": "execute_result"
    }
   ],
   "source": [
    "df.isnull().sum()"
   ]
  },
  {
   "cell_type": "code",
   "execution_count": 27,
   "id": "ea452585",
   "metadata": {},
   "outputs": [
    {
     "name": "stdout",
     "output_type": "stream",
     "text": [
      "InvoiceNo- 0.0%\n",
      "StockCode- 0.0%\n",
      "Description- 0.3%\n",
      "Quantity- 0.0%\n",
      "InvoiceDate- 0.0%\n",
      "UnitPrice- 0.0%\n",
      "CustomerID- 25.2%\n",
      "Country- 0.0%\n"
     ]
    }
   ],
   "source": [
    "for col in df.columns:\n",
    "    pct_missing= df[col].isnull().mean()\n",
    "    print(f'{col}- {pct_missing :.1%}')"
   ]
  },
  {
   "cell_type": "code",
   "execution_count": 28,
   "id": "1f6b16ce",
   "metadata": {},
   "outputs": [],
   "source": [
    "## It is evident that there are missing values in customer_ID and Description\n",
    "##Lets create a new dataframe without null values for rfm analysis"
   ]
  },
  {
   "cell_type": "code",
   "execution_count": 29,
   "id": "84ebd5aa",
   "metadata": {},
   "outputs": [],
   "source": [
    "copy= df.copy()\n",
    "\n",
    "#Dealing with missing values in our main data\n",
    "df[\"Description\"]=df[\"Description\"].fillna(\"Unknown\")\n",
    "df[\"CustomerID\"]= df[\"CustomerID\"].fillna(0)"
   ]
  },
  {
   "cell_type": "code",
   "execution_count": 30,
   "id": "66433ff3",
   "metadata": {},
   "outputs": [
    {
     "data": {
      "text/plain": [
       "InvoiceNo      0\n",
       "StockCode      0\n",
       "Description    0\n",
       "Quantity       0\n",
       "InvoiceDate    0\n",
       "UnitPrice      0\n",
       "CustomerID     0\n",
       "Country        0\n",
       "dtype: int64"
      ]
     },
     "execution_count": 30,
     "metadata": {},
     "output_type": "execute_result"
    }
   ],
   "source": [
    "df.isna().sum()"
   ]
  },
  {
   "cell_type": "markdown",
   "id": "1342174a",
   "metadata": {},
   "source": [
    "### 2.3 Data Types"
   ]
  },
  {
   "cell_type": "code",
   "execution_count": 31,
   "id": "c8982fc0",
   "metadata": {},
   "outputs": [
    {
     "data": {
      "text/plain": [
       "InvoiceNo       object\n",
       "StockCode       object\n",
       "Description     object\n",
       "Quantity         int64\n",
       "InvoiceDate     object\n",
       "UnitPrice      float64\n",
       "CustomerID     float64\n",
       "Country         object\n",
       "dtype: object"
      ]
     },
     "execution_count": 31,
     "metadata": {},
     "output_type": "execute_result"
    }
   ],
   "source": [
    "df.dtypes"
   ]
  },
  {
   "cell_type": "code",
   "execution_count": 33,
   "id": "a496e262",
   "metadata": {},
   "outputs": [],
   "source": [
    "# Convert InvoiceDate to datetime, and CustomerID should be integer\n",
    "df[\"InvoiceDate\"]= pd.to_datetime(df[\"InvoiceDate\"])\n",
    "df[\"CustomerID\"]= df[\"CustomerID\"].astype(\"int64\")"
   ]
  },
  {
   "cell_type": "markdown",
   "id": "25619858",
   "metadata": {},
   "source": [
    "### 2.4 Structuring"
   ]
  },
  {
   "cell_type": "code",
   "execution_count": 34,
   "id": "bfbbbe21",
   "metadata": {},
   "outputs": [
    {
     "data": {
      "image/png": "[encoded data removed]",
      "text/plain": [
       "<Figure size 1200x400 with 1 Axes>"
      ]
     },
     "metadata": {},
     "output_type": "display_data"
    }
   ],
   "source": [
    "#Checking Unit Price Distribution\n",
    "sns.boxplot(y=\"UnitPrice\", data= df);"
   ]
  },
  {
   "cell_type": "code",
   "execution_count": 35,
   "id": "84990446",
   "metadata": {},
   "outputs": [],
   "source": [
    "## We observe there are negative values for unit price"
   ]
  },
  {
   "cell_type": "code",
   "execution_count": 36,
   "id": "706b758c",
   "metadata": {},
   "outputs": [
    {
     "data": {
      "text/html": [
       "<div>\n",
       "<style scoped>\n",
       "    .dataframe tbody tr th:only-of-type {\n",
       "        vertical-align: middle;\n",
       "    }\n",
       "\n",
       "    .dataframe tbody tr th {\n",
       "        vertical-align: top;\n",
       "    }\n",
       "\n",
       "    .dataframe thead th {\n",
       "        text-align: right;\n",
       "    }\n",
       "</style>\n",
       "<table border=\"1\" class=\"dataframe\">\n",
       "  <thead>\n",
       "    <tr style=\"text-align: right;\">\n",
       "      <th></th>\n",
       "      <th>InvoiceNo</th>\n",
       "      <th>StockCode</th>\n",
       "      <th>Description</th>\n",
       "      <th>Quantity</th>\n",
       "      <th>InvoiceDate</th>\n",
       "      <th>UnitPrice</th>\n",
       "      <th>CustomerID</th>\n",
       "      <th>Country</th>\n",
       "    </tr>\n",
       "  </thead>\n",
       "  <tbody>\n",
       "    <tr>\n",
       "      <th>299983</th>\n",
       "      <td>A563186</td>\n",
       "      <td>B</td>\n",
       "      <td>Adjust bad debt</td>\n",
       "      <td>1</td>\n",
       "      <td>2011-08-12 14:51:00</td>\n",
       "      <td>-11062.06</td>\n",
       "      <td>0</td>\n",
       "      <td>United Kingdom</td>\n",
       "    </tr>\n",
       "    <tr>\n",
       "      <th>299984</th>\n",
       "      <td>A563187</td>\n",
       "      <td>B</td>\n",
       "      <td>Adjust bad debt</td>\n",
       "      <td>1</td>\n",
       "      <td>2011-08-12 14:52:00</td>\n",
       "      <td>-11062.06</td>\n",
       "      <td>0</td>\n",
       "      <td>United Kingdom</td>\n",
       "    </tr>\n",
       "  </tbody>\n",
       "</table>\n",
       "</div>"
      ],
      "text/plain": [
       "       InvoiceNo StockCode      Description  Quantity         InvoiceDate  \\\n",
       "299983   A563186         B  Adjust bad debt         1 2011-08-12 14:51:00   \n",
       "299984   A563187         B  Adjust bad debt         1 2011-08-12 14:52:00   \n",
       "\n",
       "        UnitPrice  CustomerID         Country  \n",
       "299983  -11062.06           0  United Kingdom  \n",
       "299984  -11062.06           0  United Kingdom  "
      ]
     },
     "execution_count": 36,
     "metadata": {},
     "output_type": "execute_result"
    }
   ],
   "source": [
    "df[df[\"UnitPrice\"]<0]"
   ]
  },
  {
   "cell_type": "code",
   "execution_count": 37,
   "id": "d3871b24",
   "metadata": {},
   "outputs": [],
   "source": [
    "#These are debt values so we wont need them\n",
    "\n",
    "#Filtering them out\n",
    "\n",
    "df= df[df[\"UnitPrice\"]>0]"
   ]
  },
  {
   "cell_type": "code",
   "execution_count": 38,
   "id": "6647ce97",
   "metadata": {},
   "outputs": [
    {
     "data": {
      "text/plain": [
       "0.001"
      ]
     },
     "execution_count": 38,
     "metadata": {},
     "output_type": "execute_result"
    }
   ],
   "source": [
    "#Now check the minimum value of UNitPrice column\n",
    "\n",
    "df[\"UnitPrice\"].min()"
   ]
  },
  {
   "cell_type": "code",
   "execution_count": 41,
   "id": "884bbfeb",
   "metadata": {},
   "outputs": [],
   "source": [
    "#We will make a column for cehckout price\n",
    "df[\"Checkout_Price\"]= df[\"Quantity\"]* df[\"UnitPrice\"]"
   ]
  },
  {
   "cell_type": "code",
   "execution_count": 39,
   "id": "bfee9252",
   "metadata": {},
   "outputs": [],
   "source": [
    "#Now we can make separate columns for Year anad Month for tme series analysis\n",
    "df[\"Year\"]= df[\"InvoiceDate\"].dt.year\n",
    "df[\"YearMonth\"]= df[\"InvoiceDate\"].dt.to_period(\"M\")\n",
    "df[\"YearMonth\"]= df[\"YearMonth\"].astype(\"str\")\n"
   ]
  },
  {
   "cell_type": "code",
   "execution_count": 40,
   "id": "761cc06e",
   "metadata": {},
   "outputs": [
    {
     "data": {
      "text/plain": [
       "0         2010-12\n",
       "1         2010-12\n",
       "2         2010-12\n",
       "3         2010-12\n",
       "4         2010-12\n",
       "           ...   \n",
       "541904    2011-12\n",
       "541905    2011-12\n",
       "541906    2011-12\n",
       "541907    2011-12\n",
       "541908    2011-12\n",
       "Name: YearMonth, Length: 534129, dtype: object"
      ]
     },
     "execution_count": 40,
     "metadata": {},
     "output_type": "execute_result"
    }
   ],
   "source": [
    "df[\"YearMonth\"]"
   ]
  },
  {
   "cell_type": "code",
   "execution_count": 42,
   "id": "f2ce9af4",
   "metadata": {},
   "outputs": [
    {
     "data": {
      "text/html": [
       "<div>\n",
       "<style scoped>\n",
       "    .dataframe tbody tr th:only-of-type {\n",
       "        vertical-align: middle;\n",
       "    }\n",
       "\n",
       "    .dataframe tbody tr th {\n",
       "        vertical-align: top;\n",
       "    }\n",
       "\n",
       "    .dataframe thead th {\n",
       "        text-align: right;\n",
       "    }\n",
       "</style>\n",
       "<table border=\"1\" class=\"dataframe\">\n",
       "  <thead>\n",
       "    <tr style=\"text-align: right;\">\n",
       "      <th></th>\n",
       "      <th>InvoiceNo</th>\n",
       "      <th>StockCode</th>\n",
       "      <th>Description</th>\n",
       "      <th>Quantity</th>\n",
       "      <th>InvoiceDate</th>\n",
       "      <th>UnitPrice</th>\n",
       "      <th>CustomerID</th>\n",
       "      <th>Country</th>\n",
       "      <th>Year</th>\n",
       "      <th>YearMonth</th>\n",
       "      <th>Checkout_Price</th>\n",
       "    </tr>\n",
       "  </thead>\n",
       "  <tbody>\n",
       "    <tr>\n",
       "      <th>0</th>\n",
       "      <td>536365</td>\n",
       "      <td>85123A</td>\n",
       "      <td>WHITE HANGING HEART T-LIGHT HOLDER</td>\n",
       "      <td>6</td>\n",
       "      <td>2010-12-01 08:26:00</td>\n",
       "      <td>2.55</td>\n",
       "      <td>17850</td>\n",
       "      <td>United Kingdom</td>\n",
       "      <td>2010</td>\n",
       "      <td>2010-12</td>\n",
       "      <td>15.30</td>\n",
       "    </tr>\n",
       "    <tr>\n",
       "      <th>1</th>\n",
       "      <td>536365</td>\n",
       "      <td>71053</td>\n",
       "      <td>WHITE METAL LANTERN</td>\n",
       "      <td>6</td>\n",
       "      <td>2010-12-01 08:26:00</td>\n",
       "      <td>3.39</td>\n",
       "      <td>17850</td>\n",
       "      <td>United Kingdom</td>\n",
       "      <td>2010</td>\n",
       "      <td>2010-12</td>\n",
       "      <td>20.34</td>\n",
       "    </tr>\n",
       "  </tbody>\n",
       "</table>\n",
       "</div>"
      ],
      "text/plain": [
       "  InvoiceNo StockCode                         Description  Quantity  \\\n",
       "0    536365    85123A  WHITE HANGING HEART T-LIGHT HOLDER         6   \n",
       "1    536365     71053                 WHITE METAL LANTERN         6   \n",
       "\n",
       "          InvoiceDate  UnitPrice  CustomerID         Country  Year YearMonth  \\\n",
       "0 2010-12-01 08:26:00       2.55       17850  United Kingdom  2010   2010-12   \n",
       "1 2010-12-01 08:26:00       3.39       17850  United Kingdom  2010   2010-12   \n",
       "\n",
       "   Checkout_Price  \n",
       "0           15.30  \n",
       "1           20.34  "
      ]
     },
     "execution_count": 42,
     "metadata": {},
     "output_type": "execute_result"
    }
   ],
   "source": [
    "df.head(2)"
   ]
  },
  {
   "cell_type": "code",
   "execution_count": 43,
   "id": "89502257",
   "metadata": {},
   "outputs": [],
   "source": [
    "# There are cancelled transactions, so we will make a df for it\n",
    "cancelled= df[df[\"InvoiceNo\"].str.contains(\"C\")]\n",
    "df=df[~df[\"InvoiceNo\"].str.contains(\"C\", na= False)]"
   ]
  },
  {
   "cell_type": "code",
   "execution_count": 44,
   "id": "70bacdb3",
   "metadata": {},
   "outputs": [],
   "source": [
    "# The data has no cancelled puchases now\n",
    "#We will make colu,mn forcustomer type if they are Members or Normal customers"
   ]
  },
  {
   "cell_type": "code",
   "execution_count": 45,
   "id": "1b1045ef",
   "metadata": {},
   "outputs": [],
   "source": [
    "df.loc[df[\"CustomerID\"]==0, \"CustomerType\"]='Normal'\n",
    "df.loc[df[\"CustomerID\"]>0,'CustomerType']=\"Member\""
   ]
  },
  {
   "cell_type": "markdown",
   "id": "344330d4",
   "metadata": {},
   "source": [
    "## 3.Analysis"
   ]
  },
  {
   "cell_type": "markdown",
   "id": "fef69dab",
   "metadata": {},
   "source": [
    "### 3.1 EDA"
   ]
  },
  {
   "cell_type": "markdown",
   "id": "777644aa",
   "metadata": {},
   "source": [
    "##### Q1.Which products have been sold by highest quantity"
   ]
  },
  {
   "cell_type": "code",
   "execution_count": 50,
   "id": "1ae207a3",
   "metadata": {},
   "outputs": [
    {
     "data": {
      "image/png": "[encoded data removed]",
      "text/plain": [
       "<Figure size 1200x400 with 1 Axes>"
      ]
     },
     "metadata": {},
     "output_type": "display_data"
    }
   ],
   "source": [
    "#Grouping products by Quantitty\n",
    "product_quantity= df.groupby(\"Description\").agg({\"Quantity\":\"sum\"}).sort_values(by=\"Quantity\", ascending=False).reset_index(drop=False).head(5)\n",
    "\n",
    "#Choosing palette and reversing it\n",
    "Palette= sns.color_palette(\"Blues_d\")\n",
    "Palette.reverse()\n",
    "\n",
    "\n",
    "\n",
    "ax= sns.barplot(y=\"Description\", x=\"Quantity\", data=product_quantity, palette= Palette)\n",
    "\n",
    "ax.bar_label(ax.containers[0]);\n",
    "\n",
    "plt.title(\"Products with Highest Quantities sold\")\n",
    "plt.ylabel(\"Product Description\");\n"
   ]
  },
  {
   "cell_type": "markdown",
   "id": "f987f7fd",
   "metadata": {},
   "source": [
    "* So we can see that \"paper craft, little birdie\" has been sold the the most estimated quantity of 80995 pieces"
   ]
  },
  {
   "cell_type": "markdown",
   "id": "3c437790",
   "metadata": {},
   "source": [
    "#### Q2. Which product has achieved the highest sales\n"
   ]
  },
  {
   "cell_type": "code",
   "execution_count": 52,
   "id": "36ac0128",
   "metadata": {},
   "outputs": [
    {
     "data": {
      "image/png": "[encoded data removed]",
      "text/plain": [
       "<Figure size 1200x400 with 1 Axes>"
      ]
     },
     "metadata": {},
     "output_type": "display_data"
    }
   ],
   "source": [
    "product_sales= df.groupby(\"Description\").agg({\"Checkout_Price\":\"sum\"}).sort_values(by=\"Checkout_Price\",ascending= False).reset_index(drop=False).head(5)\n",
    "\n",
    "#Choosing Palette and reversing it\n",
    "p= sns.color_palette(\"BuPu\")\n",
    "p.reverse()\n",
    "\n",
    "ax= sns.barplot(y=\"Description\", x=\"Checkout_Price\", data= product_sales, palette=p)\n",
    "ax.bar_label(ax.containers[0])\n",
    "\n",
    "#Setting title\n",
    "plt.title(\"Products witht highest sales\")\n",
    "plt.xlabel(\"Total sales\")\n",
    "plt.ylabel(\"Product Description\");"
   ]
  },
  {
   "cell_type": "markdown",
   "id": "e83b754f",
   "metadata": {},
   "source": [
    "#### Q3. In which country do we have more customers"
   ]
  },
  {
   "cell_type": "code",
   "execution_count": 56,
   "id": "f776674a",
   "metadata": {},
   "outputs": [
    {
     "data": {
      "image/png": "[encoded data removed]",
      "text/plain": [
       "<Figure size 1200x400 with 1 Axes>"
      ]
     },
     "metadata": {},
     "output_type": "display_data"
    }
   ],
   "source": [
    "#Counting countries\n",
    "country= df[\"Country\"].value_counts().reset_index(drop=False).head(10)\n",
    "country.columns=[\"Country\", \"Counts\"]\n",
    "\n",
    "\n",
    "#Visualizing data\n",
    "ax= sns.barplot(y=\"Counts\", x=\"Country\", data= country, palette=\"coolwarm\")\n",
    "\n",
    "#Data labels\n",
    "ax.bar_label(ax.containers[0])\n",
    "\n",
    "#Setting title\n",
    "plt.title(\"Distribution of customers country wise\")\n",
    "plt.xlabel(\"Country\")\n",
    "plt.ylabel(\"No. of Orders\")\n",
    "plt.xticks(fontsize=9)\n",
    "plt.yscale(\"log\");"
   ]
  },
  {
   "cell_type": "markdown",
   "id": "2067c23e",
   "metadata": {},
   "source": [
    "* We can seee most of our customers are from UK with significant difference from other countries\n",
    "* We notices that 9 of 10 are in Europe"
   ]
  },
  {
   "cell_type": "markdown",
   "id": "1f7be6c7",
   "metadata": {},
   "source": [
    "#### Q4, Which month have we gained the highest sales?"
   ]
  },
  {
   "cell_type": "code",
   "execution_count": 58,
   "id": "6cd70ac1",
   "metadata": {},
   "outputs": [
    {
     "data": {
      "image/png": "[encoded data removed]",
      "text/plain": [
       "<Figure size 1200x400 with 1 Axes>"
      ]
     },
     "metadata": {},
     "output_type": "display_data"
    }
   ],
   "source": [
    "#Grouping montha and monthYear by checkout price\n",
    "month_sales= df.groupby(\"YearMonth\")[\"Checkout_Price\"].sum().reset_index(drop=False)\n",
    "\n",
    "month_sales\n",
    "#Visualizing time series data\n",
    "sns.lineplot(x=\"YearMonth\", y=\"Checkout_Price\", data= month_sales)\n",
    "plt.title(\"Sales Trend\")\n",
    "plt.xlabel(\"Total Sales\");"
   ]
  },
  {
   "cell_type": "markdown",
   "id": "398e7cf2",
   "metadata": {},
   "source": [
    "* The largest sales happened in Novemeber 2011"
   ]
  },
  {
   "cell_type": "markdown",
   "id": "7597b169",
   "metadata": {},
   "source": [
    "#### Q5. What is the distribution of custoemr type\n"
   ]
  },
  {
   "cell_type": "code",
   "execution_count": 60,
   "id": "f7f90294",
   "metadata": {},
   "outputs": [
    {
     "data": {
      "image/png": "[encoded data removed]",
      "text/plain": [
       "<Figure size 1200x400 with 1 Axes>"
      ]
     },
     "metadata": {},
     "output_type": "display_data"
    }
   ],
   "source": [
    "#making the pie chart for customer type distribution\n",
    "df.groupby(\"CustomerType\").count()[\"Checkout_Price\"].plot(kind=\"pie\", autopct=\"%.2f\", subplots=True, wedgeprops=dict(width=0.20))\n",
    "plt.title(\"Distribution of customer type count\");"
   ]
  },
  {
   "cell_type": "markdown",
   "id": "aecb828d",
   "metadata": {},
   "source": [
    "* Almost 75% of purchases were made by member customers"
   ]
  },
  {
   "cell_type": "markdown",
   "id": "a7d38c03",
   "metadata": {},
   "source": [
    "#### Q6. Which customer type has higher average sales?"
   ]
  },
  {
   "cell_type": "code",
   "execution_count": 63,
   "id": "3896b1a8",
   "metadata": {},
   "outputs": [
    {
     "data": {
      "image/png": "[encoded data removed]",
      "text/plain": [
       "<Figure size 1200x400 with 1 Axes>"
      ]
     },
     "metadata": {},
     "output_type": "display_data"
    }
   ],
   "source": [
    "# Gruping customer type by average sales\n",
    "customer_sales= df.groupby(\"CustomerType\")[\"Checkout_Price\"].mean().reset_index(drop=False)  #Same queries \n",
    "\n",
    "sns.barplot(x=\"CustomerType\", y=\"Checkout_Price\", data= customer_sales, palette=\"crest\")\n",
    "\n",
    "#Setting title\n",
    "plt.title(\"Average sales per customer type\")\n",
    "plt.ylabel(\"Average Sales\");"
   ]
  },
  {
   "cell_type": "code",
   "execution_count": 65,
   "id": "6a92d84d",
   "metadata": {},
   "outputs": [
    {
     "data": {
      "image/png": "[encoded data removed]",
      "text/plain": [
       "<Figure size 1200x400 with 1 Axes>"
      ]
     },
     "metadata": {},
     "output_type": "display_data"
    }
   ],
   "source": [
    "#Same query as above just a diferent waay of writing the code\n",
    "customer_sales1= df.groupby(\"CustomerType\").agg({\"Checkout_Price\":\"mean\"}).reset_index(drop= False)  \n",
    "\n",
    "sns.barplot(x=\"CustomerType\", y=\"Checkout_Price\", data= customer_sales1, palette=\"crest\")\n",
    "\n",
    "#Setting title\n",
    "plt.title(\"Average sales per customer type\")\n",
    "plt.ylabel(\"Average Sales\");"
   ]
  },
  {
   "cell_type": "markdown",
   "id": "df4dd21c",
   "metadata": {},
   "source": [
    "* Member customers have higher average sales than normal customers"
   ]
  },
  {
   "cell_type": "markdown",
   "id": "2c8a0b6d",
   "metadata": {},
   "source": [
    "## 3.3 RFM Analysis"
   ]
  },
  {
   "cell_type": "markdown",
   "id": "a947ccc5",
   "metadata": {},
   "source": [
    "The RFM is employed as an algorithm as it is a simple model\n",
    "\n",
    "The word RFM derived from three acronyms: Recency, Frequenxy, Monetary; and seeks to better understand the client by \n",
    "verifying when his last purchase was; how many times he has purchased, and how much he has spent with the company\n",
    "\n",
    "Recency(R) Dys since the customers last purchase; Frequency(F) Number of Products bought by the customer; Monetary\n",
    "(M) Total spent on purchases\n",
    "\n",
    "Customer Score:\n",
    "    \n",
    "The customer score ranges from 1 to 5, where the higher this number the better. This score is assigned for each \n",
    "acronym independantly:\n",
    "\n",
    "* The more recent the customers purchase the higher the recency(R) score\n",
    "* The more number of purchases the customer makes, the higher the Frequency score(F)\n",
    "* The more the customer spends on purchases, the higher the score the customer will have Monetary(M)\n",
    "\n",
    "This definition of each score can be goven through inference .i.e. some busines definition or by quantile\n"
   ]
  },
  {
   "cell_type": "code",
   "execution_count": 72,
   "id": "6c48d78c",
   "metadata": {},
   "outputs": [],
   "source": [
    "# Ignoring cancel orders\n",
    "copy[~copy[\"InvoiceNo\"].str.contains(\"C\", na=False)]\n",
    "     \n",
    "#Dropping null values in customer ID  column\n",
    "copy.dropna(subset=[\"CustomerID\"], inplace=True)\n",
    "\n",
    "#Make checkoutprice column\n",
    "copy[\"CheckoutPrice\"]= copy[\"UnitPrice\"] * copy[\"Quantity\"]\n",
    "     \n",
    "#Ignoring debts\n",
    "copy= copy[copy[\"UnitPrice\"]>0]\n",
    "     \n",
    "#Dealing with datatypes\n",
    "copy[\"InvoiceDate\"]= pd.to_datetime(copy[\"InvoiceDate\"])\n",
    "copy[\"CustomerID\"]= copy[\"CustomerID\"].astype('int64')"
   ]
  },
  {
   "cell_type": "code",
   "execution_count": 79,
   "id": "7e27730d",
   "metadata": {},
   "outputs": [
    {
     "data": {
      "text/plain": [
       "Timestamp('2011-12-09 12:50:00')"
      ]
     },
     "execution_count": 79,
     "metadata": {},
     "output_type": "execute_result"
    }
   ],
   "source": [
    "#Define today\n",
    "today_date= copy[\"InvoiceDate\"].max()\n"
   ]
  },
  {
   "cell_type": "code",
   "execution_count": 75,
   "id": "0bf31ce9",
   "metadata": {
    "scrolled": true
   },
   "outputs": [
    {
     "data": {
      "text/html": [
       "<div>\n",
       "<style scoped>\n",
       "    .dataframe tbody tr th:only-of-type {\n",
       "        vertical-align: middle;\n",
       "    }\n",
       "\n",
       "    .dataframe tbody tr th {\n",
       "        vertical-align: top;\n",
       "    }\n",
       "\n",
       "    .dataframe thead th {\n",
       "        text-align: right;\n",
       "    }\n",
       "</style>\n",
       "<table border=\"1\" class=\"dataframe\">\n",
       "  <thead>\n",
       "    <tr style=\"text-align: right;\">\n",
       "      <th></th>\n",
       "      <th>InvoiceNo</th>\n",
       "      <th>StockCode</th>\n",
       "      <th>Description</th>\n",
       "      <th>Quantity</th>\n",
       "      <th>InvoiceDate</th>\n",
       "      <th>UnitPrice</th>\n",
       "      <th>CustomerID</th>\n",
       "      <th>Country</th>\n",
       "      <th>CheckoutPrice</th>\n",
       "    </tr>\n",
       "  </thead>\n",
       "  <tbody>\n",
       "    <tr>\n",
       "      <th>0</th>\n",
       "      <td>536365</td>\n",
       "      <td>85123A</td>\n",
       "      <td>WHITE HANGING HEART T-LIGHT HOLDER</td>\n",
       "      <td>6</td>\n",
       "      <td>2010-12-01 08:26:00</td>\n",
       "      <td>2.55</td>\n",
       "      <td>17850</td>\n",
       "      <td>United Kingdom</td>\n",
       "      <td>15.30</td>\n",
       "    </tr>\n",
       "    <tr>\n",
       "      <th>1</th>\n",
       "      <td>536365</td>\n",
       "      <td>71053</td>\n",
       "      <td>WHITE METAL LANTERN</td>\n",
       "      <td>6</td>\n",
       "      <td>2010-12-01 08:26:00</td>\n",
       "      <td>3.39</td>\n",
       "      <td>17850</td>\n",
       "      <td>United Kingdom</td>\n",
       "      <td>20.34</td>\n",
       "    </tr>\n",
       "  </tbody>\n",
       "</table>\n",
       "</div>"
      ],
      "text/plain": [
       "  InvoiceNo StockCode                         Description  Quantity  \\\n",
       "0    536365    85123A  WHITE HANGING HEART T-LIGHT HOLDER         6   \n",
       "1    536365     71053                 WHITE METAL LANTERN         6   \n",
       "\n",
       "          InvoiceDate  UnitPrice  CustomerID         Country  CheckoutPrice  \n",
       "0 2010-12-01 08:26:00       2.55       17850  United Kingdom          15.30  \n",
       "1 2010-12-01 08:26:00       3.39       17850  United Kingdom          20.34  "
      ]
     },
     "execution_count": 75,
     "metadata": {},
     "output_type": "execute_result"
    }
   ],
   "source": [
    "copy.head(2)"
   ]
  },
  {
   "cell_type": "code",
   "execution_count": 78,
   "id": "ecaaaa39",
   "metadata": {},
   "outputs": [
    {
     "data": {
      "text/html": [
       "<div>\n",
       "<style scoped>\n",
       "    .dataframe tbody tr th:only-of-type {\n",
       "        vertical-align: middle;\n",
       "    }\n",
       "\n",
       "    .dataframe tbody tr th {\n",
       "        vertical-align: top;\n",
       "    }\n",
       "\n",
       "    .dataframe thead th {\n",
       "        text-align: right;\n",
       "    }\n",
       "</style>\n",
       "<table border=\"1\" class=\"dataframe\">\n",
       "  <thead>\n",
       "    <tr style=\"text-align: right;\">\n",
       "      <th></th>\n",
       "      <th>InvoiceDate</th>\n",
       "      <th>InvoiceNo</th>\n",
       "      <th>CheckoutPrice</th>\n",
       "    </tr>\n",
       "    <tr>\n",
       "      <th>CustomerID</th>\n",
       "      <th></th>\n",
       "      <th></th>\n",
       "      <th></th>\n",
       "    </tr>\n",
       "  </thead>\n",
       "  <tbody>\n",
       "    <tr>\n",
       "      <th>12346</th>\n",
       "      <td>325</td>\n",
       "      <td>2</td>\n",
       "      <td>0.00</td>\n",
       "    </tr>\n",
       "    <tr>\n",
       "      <th>12347</th>\n",
       "      <td>1</td>\n",
       "      <td>7</td>\n",
       "      <td>4310.00</td>\n",
       "    </tr>\n",
       "    <tr>\n",
       "      <th>12348</th>\n",
       "      <td>74</td>\n",
       "      <td>4</td>\n",
       "      <td>1797.24</td>\n",
       "    </tr>\n",
       "    <tr>\n",
       "      <th>12349</th>\n",
       "      <td>18</td>\n",
       "      <td>1</td>\n",
       "      <td>1757.55</td>\n",
       "    </tr>\n",
       "    <tr>\n",
       "      <th>12350</th>\n",
       "      <td>309</td>\n",
       "      <td>1</td>\n",
       "      <td>334.40</td>\n",
       "    </tr>\n",
       "    <tr>\n",
       "      <th>...</th>\n",
       "      <td>...</td>\n",
       "      <td>...</td>\n",
       "      <td>...</td>\n",
       "    </tr>\n",
       "    <tr>\n",
       "      <th>18280</th>\n",
       "      <td>277</td>\n",
       "      <td>1</td>\n",
       "      <td>180.60</td>\n",
       "    </tr>\n",
       "    <tr>\n",
       "      <th>18281</th>\n",
       "      <td>180</td>\n",
       "      <td>1</td>\n",
       "      <td>80.82</td>\n",
       "    </tr>\n",
       "    <tr>\n",
       "      <th>18282</th>\n",
       "      <td>7</td>\n",
       "      <td>3</td>\n",
       "      <td>176.60</td>\n",
       "    </tr>\n",
       "    <tr>\n",
       "      <th>18283</th>\n",
       "      <td>3</td>\n",
       "      <td>16</td>\n",
       "      <td>2045.53</td>\n",
       "    </tr>\n",
       "    <tr>\n",
       "      <th>18287</th>\n",
       "      <td>42</td>\n",
       "      <td>3</td>\n",
       "      <td>1837.28</td>\n",
       "    </tr>\n",
       "  </tbody>\n",
       "</table>\n",
       "<p>4371 rows × 3 columns</p>\n",
       "</div>"
      ],
      "text/plain": [
       "            InvoiceDate  InvoiceNo  CheckoutPrice\n",
       "CustomerID                                       \n",
       "12346               325          2           0.00\n",
       "12347                 1          7        4310.00\n",
       "12348                74          4        1797.24\n",
       "12349                18          1        1757.55\n",
       "12350               309          1         334.40\n",
       "...                 ...        ...            ...\n",
       "18280               277          1         180.60\n",
       "18281               180          1          80.82\n",
       "18282                 7          3         176.60\n",
       "18283                 3         16        2045.53\n",
       "18287                42          3        1837.28\n",
       "\n",
       "[4371 rows x 3 columns]"
      ]
     },
     "execution_count": 78,
     "metadata": {},
     "output_type": "execute_result"
    }
   ],
   "source": [
    "#Set our data to rfm analysis\n",
    "rfm= copy.groupby(\"CustomerID\").agg({\"InvoiceDate\": lambda date: (today_date - date.max()).days,\"InvoiceNo\": lambda num\n",
    "                                    :num.nunique(),\"CheckoutPrice\":lambda CheckoutPrice: CheckoutPrice.sum()})\n",
    "\n",
    "rfm"
   ]
  },
  {
   "cell_type": "code",
   "execution_count": 80,
   "id": "c0547028",
   "metadata": {},
   "outputs": [],
   "source": [
    "#Renaming columns\n",
    "rfm.columns=[\"Recency\", \"Frequency\",\"Monetary\"]"
   ]
  },
  {
   "cell_type": "code",
   "execution_count": 81,
   "id": "6eeeeb8f",
   "metadata": {},
   "outputs": [],
   "source": [
    "#Ignore case where MOnetary< 0 we will ot need that in our analysis\n",
    "rfm= rfm[rfm[\"Monetary\"]>0]"
   ]
  },
  {
   "cell_type": "code",
   "execution_count": 82,
   "id": "f36c5913",
   "metadata": {},
   "outputs": [],
   "source": [
    "#Set recency score \n",
    "rfm[\"Recency_Score\"]= pd.qcut(rfm[\"Recency\"],5, labels=[5,4,3,2,1] )"
   ]
  },
  {
   "cell_type": "code",
   "execution_count": 84,
   "id": "850da71c",
   "metadata": {},
   "outputs": [],
   "source": [
    "#Set frequency score\n",
    "rfm[\"Frequency_Score\"]= pd.qcut(rfm[\"Frequency\"].rank(method='first'),5, labels=[1,2,3,4,5])"
   ]
  },
  {
   "cell_type": "code",
   "execution_count": 85,
   "id": "2e261488",
   "metadata": {},
   "outputs": [],
   "source": [
    "#Set Monetary Score\n",
    "rfm[\"Monetary_Score\"]= pd.qcut(rfm[\"Monetary\"], 5, labels=[1,2,3,4,5])"
   ]
  },
  {
   "cell_type": "code",
   "execution_count": 86,
   "id": "60a48b57",
   "metadata": {},
   "outputs": [],
   "source": [
    "#Set RFM Score\n",
    "rfm['RFM_Score'] = (rfm['Recency_Score'].astype(str) + rfm['Frequency_Score'].astype(str) + rfm['Monetary_Score'].astype(str) )"
   ]
  },
  {
   "cell_type": "code",
   "execution_count": 88,
   "id": "9ff3c008",
   "metadata": {},
   "outputs": [
    {
     "data": {
      "text/html": [
       "<div>\n",
       "<style scoped>\n",
       "    .dataframe tbody tr th:only-of-type {\n",
       "        vertical-align: middle;\n",
       "    }\n",
       "\n",
       "    .dataframe tbody tr th {\n",
       "        vertical-align: top;\n",
       "    }\n",
       "\n",
       "    .dataframe thead th {\n",
       "        text-align: right;\n",
       "    }\n",
       "</style>\n",
       "<table border=\"1\" class=\"dataframe\">\n",
       "  <thead>\n",
       "    <tr style=\"text-align: right;\">\n",
       "      <th></th>\n",
       "      <th>Recency_Score</th>\n",
       "      <th>Frequency_Score</th>\n",
       "      <th>Monetary_Score</th>\n",
       "      <th>RFM_Score</th>\n",
       "    </tr>\n",
       "    <tr>\n",
       "      <th>CustomerID</th>\n",
       "      <th></th>\n",
       "      <th></th>\n",
       "      <th></th>\n",
       "      <th></th>\n",
       "    </tr>\n",
       "  </thead>\n",
       "  <tbody>\n",
       "    <tr>\n",
       "      <th>12347</th>\n",
       "      <td>5</td>\n",
       "      <td>4</td>\n",
       "      <td>5</td>\n",
       "      <td>545</td>\n",
       "    </tr>\n",
       "    <tr>\n",
       "      <th>12348</th>\n",
       "      <td>2</td>\n",
       "      <td>3</td>\n",
       "      <td>4</td>\n",
       "      <td>234</td>\n",
       "    </tr>\n",
       "    <tr>\n",
       "      <th>12349</th>\n",
       "      <td>4</td>\n",
       "      <td>1</td>\n",
       "      <td>4</td>\n",
       "      <td>414</td>\n",
       "    </tr>\n",
       "    <tr>\n",
       "      <th>12350</th>\n",
       "      <td>1</td>\n",
       "      <td>1</td>\n",
       "      <td>2</td>\n",
       "      <td>112</td>\n",
       "    </tr>\n",
       "    <tr>\n",
       "      <th>12352</th>\n",
       "      <td>3</td>\n",
       "      <td>5</td>\n",
       "      <td>4</td>\n",
       "      <td>354</td>\n",
       "    </tr>\n",
       "    <tr>\n",
       "      <th>...</th>\n",
       "      <td>...</td>\n",
       "      <td>...</td>\n",
       "      <td>...</td>\n",
       "      <td>...</td>\n",
       "    </tr>\n",
       "    <tr>\n",
       "      <th>18280</th>\n",
       "      <td>1</td>\n",
       "      <td>2</td>\n",
       "      <td>1</td>\n",
       "      <td>121</td>\n",
       "    </tr>\n",
       "    <tr>\n",
       "      <th>18281</th>\n",
       "      <td>1</td>\n",
       "      <td>2</td>\n",
       "      <td>1</td>\n",
       "      <td>121</td>\n",
       "    </tr>\n",
       "    <tr>\n",
       "      <th>18282</th>\n",
       "      <td>5</td>\n",
       "      <td>3</td>\n",
       "      <td>1</td>\n",
       "      <td>531</td>\n",
       "    </tr>\n",
       "    <tr>\n",
       "      <th>18283</th>\n",
       "      <td>5</td>\n",
       "      <td>5</td>\n",
       "      <td>5</td>\n",
       "      <td>555</td>\n",
       "    </tr>\n",
       "    <tr>\n",
       "      <th>18287</th>\n",
       "      <td>3</td>\n",
       "      <td>3</td>\n",
       "      <td>4</td>\n",
       "      <td>334</td>\n",
       "    </tr>\n",
       "  </tbody>\n",
       "</table>\n",
       "<p>4320 rows × 4 columns</p>\n",
       "</div>"
      ],
      "text/plain": [
       "           Recency_Score Frequency_Score Monetary_Score RFM_Score\n",
       "CustomerID                                                       \n",
       "12347                  5               4              5       545\n",
       "12348                  2               3              4       234\n",
       "12349                  4               1              4       414\n",
       "12350                  1               1              2       112\n",
       "12352                  3               5              4       354\n",
       "...                  ...             ...            ...       ...\n",
       "18280                  1               2              1       121\n",
       "18281                  1               2              1       121\n",
       "18282                  5               3              1       531\n",
       "18283                  5               5              5       555\n",
       "18287                  3               3              4       334\n",
       "\n",
       "[4320 rows x 4 columns]"
      ]
     },
     "execution_count": 88,
     "metadata": {},
     "output_type": "execute_result"
    }
   ],
   "source": [
    "rfm[[\"Recency_Score\",\"Frequency_Score\",\"Monetary_Score\",\"RFM_Score\"]]"
   ]
  },
  {
   "cell_type": "code",
   "execution_count": 90,
   "id": "febebecc",
   "metadata": {},
   "outputs": [
    {
     "data": {
      "text/html": [
       "<div>\n",
       "<style scoped>\n",
       "    .dataframe tbody tr th:only-of-type {\n",
       "        vertical-align: middle;\n",
       "    }\n",
       "\n",
       "    .dataframe tbody tr th {\n",
       "        vertical-align: top;\n",
       "    }\n",
       "\n",
       "    .dataframe thead th {\n",
       "        text-align: right;\n",
       "    }\n",
       "</style>\n",
       "<table border=\"1\" class=\"dataframe\">\n",
       "  <thead>\n",
       "    <tr style=\"text-align: right;\">\n",
       "      <th></th>\n",
       "      <th>Recency</th>\n",
       "      <th>Frequency</th>\n",
       "      <th>Monetary</th>\n",
       "      <th>Recency_Score</th>\n",
       "      <th>Frequency_Score</th>\n",
       "      <th>Monetary_Score</th>\n",
       "      <th>RFM_Score</th>\n",
       "      <th>Segment</th>\n",
       "    </tr>\n",
       "    <tr>\n",
       "      <th>CustomerID</th>\n",
       "      <th></th>\n",
       "      <th></th>\n",
       "      <th></th>\n",
       "      <th></th>\n",
       "      <th></th>\n",
       "      <th></th>\n",
       "      <th></th>\n",
       "      <th></th>\n",
       "    </tr>\n",
       "  </thead>\n",
       "  <tbody>\n",
       "    <tr>\n",
       "      <th>12347</th>\n",
       "      <td>1</td>\n",
       "      <td>7</td>\n",
       "      <td>4310.00</td>\n",
       "      <td>5</td>\n",
       "      <td>4</td>\n",
       "      <td>5</td>\n",
       "      <td>545</td>\n",
       "      <td>Champions</td>\n",
       "    </tr>\n",
       "    <tr>\n",
       "      <th>12348</th>\n",
       "      <td>74</td>\n",
       "      <td>4</td>\n",
       "      <td>1797.24</td>\n",
       "      <td>2</td>\n",
       "      <td>3</td>\n",
       "      <td>4</td>\n",
       "      <td>234</td>\n",
       "      <td>At risk</td>\n",
       "    </tr>\n",
       "    <tr>\n",
       "      <th>12349</th>\n",
       "      <td>18</td>\n",
       "      <td>1</td>\n",
       "      <td>1757.55</td>\n",
       "      <td>4</td>\n",
       "      <td>1</td>\n",
       "      <td>4</td>\n",
       "      <td>414</td>\n",
       "      <td>Good Potential</td>\n",
       "    </tr>\n",
       "    <tr>\n",
       "      <th>12350</th>\n",
       "      <td>309</td>\n",
       "      <td>1</td>\n",
       "      <td>334.40</td>\n",
       "      <td>1</td>\n",
       "      <td>1</td>\n",
       "      <td>2</td>\n",
       "      <td>112</td>\n",
       "      <td>Hiberanating</td>\n",
       "    </tr>\n",
       "    <tr>\n",
       "      <th>12352</th>\n",
       "      <td>35</td>\n",
       "      <td>11</td>\n",
       "      <td>1545.41</td>\n",
       "      <td>3</td>\n",
       "      <td>5</td>\n",
       "      <td>4</td>\n",
       "      <td>354</td>\n",
       "      <td>Loyal Customers</td>\n",
       "    </tr>\n",
       "  </tbody>\n",
       "</table>\n",
       "</div>"
      ],
      "text/plain": [
       "            Recency  Frequency  Monetary Recency_Score Frequency_Score  \\\n",
       "CustomerID                                                               \n",
       "12347             1          7   4310.00             5               4   \n",
       "12348            74          4   1797.24             2               3   \n",
       "12349            18          1   1757.55             4               1   \n",
       "12350           309          1    334.40             1               1   \n",
       "12352            35         11   1545.41             3               5   \n",
       "\n",
       "           Monetary_Score RFM_Score          Segment  \n",
       "CustomerID                                            \n",
       "12347                   5       545        Champions  \n",
       "12348                   4       234          At risk  \n",
       "12349                   4       414   Good Potential  \n",
       "12350                   2       112     Hiberanating  \n",
       "12352                   4       354  Loyal Customers  "
      ]
     },
     "execution_count": 90,
     "metadata": {},
     "output_type": "execute_result"
    }
   ],
   "source": [
    "#Our customer segmentation map\n",
    "\n",
    "seg_map={\n",
    "    r'[1-2][1-2][1-5]':\"Hiberanating\",\n",
    "    r'[1-2][3-4][1-5]':\"At risk\",\n",
    "    r'[1-2]5[1-5]':\"Cannot lose them\",\n",
    "    r'3[1-2][1-5]':\"About to sleep\",\n",
    "    r'33[1-5]':\"Need attention\",\n",
    "    r'[3-4][4-5][1-5]':\"Loyal Customers\",\n",
    "    r'[4-5][1-3][1-5]':\"Good Potential\",\n",
    "    r'5[4-5][1-5]':\"Champions\"\n",
    "}\n",
    "\n",
    "rfm[\"Segment\"]= rfm[\"RFM_Score\"].replace(seg_map, regex=True)\n",
    "rfm.head()"
   ]
  },
  {
   "cell_type": "code",
   "execution_count": 167,
   "id": "c3969f4b",
   "metadata": {},
   "outputs": [
    {
     "data": {
      "image/png": "[encoded data removed]",
      "text/plain": [
       "<Figure size 1200x400 with 1 Axes>"
      ]
     },
     "metadata": {},
     "output_type": "display_data"
    }
   ],
   "source": [
    "#Bar Plot for Our segments\n",
    "Segments = (rfm['Segment'].value_counts(normalize=True)* 100).reset_index(name='percentage')\n",
    "Segments = Segments.round(1)\n",
    "b =sns.barplot(y='index',x='percentage', data=Segments, palette = 'rocket')\n",
    "for i, v in enumerate(Segments['percentage']):\n",
    "    b.text(v,i+0.20,\"  {:.1f}\".format(v)+\"%\", color='black', ha=\"left\")\n",
    "    b.set_ylabel('Segmentation')\n",
    "    b.set_title('Customer Segmentation')"
   ]
  },
  {
   "cell_type": "markdown",
   "id": "8fb385dd",
   "metadata": {},
   "source": [
    "## 4.Conclusions"
   ]
  },
  {
   "cell_type": "code",
   "execution_count": null,
   "id": "eafb9c38",
   "metadata": {},
   "outputs": [],
   "source": [
    "#### 4.1 Findings\n",
    "\n",
    "* \"paper craft\",\"Little Birdie\" product is the most sold product\n",
    "* \"DOTCOM POSTAGE\" has achieved the highest sales\n",
    "* Most of Our customers are living in UK with very big differnce from the other countries\n",
    "* The best sales was in November 2011\n",
    "* 75% of purchases were made by member customers\n",
    "* Member Customers have higher average sales than Normal Customers\n",
    "* 24.1% of our customers are in the hibernation segment and that for customers who have purchased from us a few times and the last time was a long time\n",
    "* 18.4% of our customers are loyal and usually buys from us\n",
    "* 14.8% of our customers are champions so we are their favourtie market\n",
    "* 14.4% of our customers have good potential that refers to customers who have bought from us recently and have not buy many times\n",
    "* 14.1% of our cutomeers are at risk segment so we must attract them again\n",
    "* 8.4% of our customers are about to sleep and this segment of customers who last purchase from us for a fairly long time\n",
    "* 4.2% of our customers are needing more attention to make them fall under Champions segment\n",
    "*1.6% of our customers can`t lost them and they purchased from us many times but last time was for a long time"
   ]
  },
  {
   "cell_type": "markdown",
   "id": "c48d70bc",
   "metadata": {},
   "source": [
    "#### 4.2 Recommendations\n",
    "\n",
    "**EDA Recommendations:**\n",
    "* You should restrict your market to Europe\n",
    "* The benefits of using member cards should be conveyed to the normal customers which will convert them to a member     which means more sales and customer loyalty\n",
    "    \n",
    "**RFM Analysis Recommedations:**\n",
    "* 24.1% - Hibernating :\n",
    "1. Reviving interest with outreach campaigns\n",
    "* 18.4% - Loyal Customers:\n",
    "1. Personalized communication\n",
    "\n",
    "2. Avoid mass mailing of offers\n",
    "\n",
    "3. Offer few products, but present products that they are likely to be interested in\n",
    "\n",
    "4. Ask for product reviews\n",
    "\n",
    "* 14.8% - Champions:\n",
    "1. Special offers, products and discounts for these customers so they feel valued\n",
    "2. Ask for reviews and feedbacks constantly\n",
    "3. Avoid sending massive amounts of offers\n",
    "4. Personalized communication\n",
    "5. Give rewards\n",
    "\n",
    "* 14.4% - Good Potential:\n",
    "1. Offer a loyalty program\n",
    "\n",
    "2. Keep them engaged\n",
    "\n",
    "3. Personalized and other product recommendations\n",
    "\n",
    "* 14.1% - At Risk:\n",
    "1. Send personalized communications and other messages to reconnect\n",
    "\n",
    "2. Offer good deals\n",
    "\n",
    "* 8.4% - About to sleep :\n",
    "1. Make them feel confident in us\n",
    "2. Offer them good deals on their favortie products\n",
    "\n",
    "* 4.2% - Need Attetion:\n",
    "1. Promotional campaigns for a limited time\n",
    "\n",
    "2. Product recommendations based on their behavior\n",
    "\n",
    "3. Show the importance of buying with the company\n",
    "\n",
    "* 1.6% - Cannot lost them:\n",
    "1. Standard communication for sending offers\n",
    "2. Offer relevant products and good deals\n",
    "3. Ask them if there was a problem in their last purchases\n"
   ]
  },
  {
   "cell_type": "code",
   "execution_count": null,
   "id": "fb0e1438",
   "metadata": {},
   "outputs": [],
   "source": []
  }
 ],
 "metadata": {
  "kernelspec": {
   "display_name": "Python 3 (ipykernel)",
   "language": "python",
   "name": "python3"
  },
  "language_info": {
   "codemirror_mode": {
    "name": "ipython",
    "version": 3
   },
   "file_extension": ".py",
   "mimetype": "text/x-python",
   "name": "python",
   "nbconvert_exporter": "python",
   "pygments_lexer": "ipython3",
   "version": "3.9.13"
  }
 },
 "nbformat": 4,
 "nbformat_minor": 5
}
